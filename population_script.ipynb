{
 "cells": [
  {
   "cell_type": "code",
   "execution_count": 2,
   "metadata": {},
   "outputs": [],
   "source": [
    "import requests\n",
    "from bs4 import BeautifulSoup\n",
    "import pandas as pd"
   ]
  },
  {
   "cell_type": "code",
   "execution_count": 3,
   "metadata": {},
   "outputs": [],
   "source": [
    "url = \"https://www.worldometers.info/world-population/nigeria-population/#:~:text=The%20current%20population%20of%20Nigeria,latest%20United%20Nations%20data%201\"\n",
    "\n",
    "response = requests.get(url)\n",
    "\n",
    "soup = BeautifulSoup(response.text, 'html')"
   ]
  },
  {
   "cell_type": "code",
   "execution_count": 4,
   "metadata": {},
   "outputs": [],
   "source": [
    "table = soup.find(\"table\", class_ = \"table table-striped table-bordered table-hover table-condensed table-list\")\n",
    "\n",
    "table.text\n",
    "\n",
    "table_rows = table.find_all(\"tr\")"
   ]
  },
  {
   "cell_type": "code",
   "execution_count": 6,
   "metadata": {},
   "outputs": [],
   "source": [
    "header_row = table.find('thead').find_all('th')\n",
    "#header_names = [header.text.strip() for header in header_row]\n",
    "\n",
    "#header_names"
   ]
  },
  {
   "cell_type": "code",
   "execution_count": 9,
   "metadata": {},
   "outputs": [
    {
     "data": {
      "text/plain": [
       "['Year',\n",
       " 'Population',\n",
       " 'Yearly %  Change',\n",
       " 'Yearly Change',\n",
       " 'Migrants (net)',\n",
       " 'Median Age',\n",
       " 'Fertility Rate',\n",
       " 'Density (P/Km²)',\n",
       " 'Urban Pop %',\n",
       " 'Urban Population',\n",
       " \"Country's Share of World Pop\",\n",
       " 'World Population',\n",
       " 'NigeriaGlobal Rank']"
      ]
     },
     "execution_count": 9,
     "metadata": {},
     "output_type": "execute_result"
    }
   ],
   "source": [
    "#alternative code block to loop and grab data from our site\n",
    "\n",
    "hh = []\n",
    "\n",
    "for header in header_row:\n",
    "    he = header.text.strip()\n",
    "    hh.append(he)\n",
    "\n",
    "hh"
   ]
  },
  {
   "cell_type": "code",
   "execution_count": null,
   "metadata": {},
   "outputs": [],
   "source": []
  }
 ],
 "metadata": {
  "kernelspec": {
   "display_name": "Python 3",
   "language": "python",
   "name": "python3"
  },
  "language_info": {
   "codemirror_mode": {
    "name": "ipython",
    "version": 3
   },
   "file_extension": ".py",
   "mimetype": "text/x-python",
   "name": "python",
   "nbconvert_exporter": "python",
   "pygments_lexer": "ipython3",
   "version": "3.12.1"
  }
 },
 "nbformat": 4,
 "nbformat_minor": 2
}
